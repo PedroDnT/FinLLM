{
 "cells": [
  {
   "cell_type": "code",
   "execution_count": 3,
   "metadata": {},
   "outputs": [],
   "source": [
    "from fetcherv6 import *\n",
    "from openaicall import *\n",
    "code = 2437"
   ]
  },
  {
   "cell_type": "code",
   "execution_count": 8,
   "metadata": {},
   "outputs": [
    {
     "name": "stderr",
     "output_type": "stream",
     "text": [
      "2024-06-24 18:00:12,454 - WARNING - Columns ['period_end'] not found in DataFrame\n"
     ]
    },
    {
     "name": "stdout",
     "output_type": "stream",
     "text": [
      "Missing data for years: Index([2009], dtype='int64', name='reference_date')\n"
     ]
    },
    {
     "name": "stderr",
     "output_type": "stream",
     "text": [
      "2024-06-24 18:00:20,909 - INFO - HTTP Request: POST https://api.openai.com/v1/chat/completions \"HTTP/1.1 200 OK\"\n"
     ]
    },
    {
     "name": "stdout",
     "output_type": "stream",
     "text": [
      "Processed year: 2015\n"
     ]
    },
    {
     "name": "stderr",
     "output_type": "stream",
     "text": [
      "2024-06-24 18:00:27,985 - INFO - HTTP Request: POST https://api.openai.com/v1/chat/completions \"HTTP/1.1 200 OK\"\n"
     ]
    },
    {
     "name": "stdout",
     "output_type": "stream",
     "text": [
      "Processed year: 2016\n"
     ]
    },
    {
     "name": "stderr",
     "output_type": "stream",
     "text": [
      "2024-06-24 18:00:35,462 - INFO - HTTP Request: POST https://api.openai.com/v1/chat/completions \"HTTP/1.1 200 OK\"\n"
     ]
    },
    {
     "name": "stdout",
     "output_type": "stream",
     "text": [
      "Processed year: 2017\n"
     ]
    },
    {
     "name": "stderr",
     "output_type": "stream",
     "text": [
      "2024-06-24 18:00:43,139 - INFO - HTTP Request: POST https://api.openai.com/v1/chat/completions \"HTTP/1.1 200 OK\"\n"
     ]
    },
    {
     "name": "stdout",
     "output_type": "stream",
     "text": [
      "Processed year: 2018\n"
     ]
    },
    {
     "name": "stderr",
     "output_type": "stream",
     "text": [
      "2024-06-24 18:00:49,107 - INFO - HTTP Request: POST https://api.openai.com/v1/chat/completions \"HTTP/1.1 200 OK\"\n"
     ]
    },
    {
     "name": "stdout",
     "output_type": "stream",
     "text": [
      "Processed year: 2019\n"
     ]
    },
    {
     "name": "stderr",
     "output_type": "stream",
     "text": [
      "2024-06-24 18:00:57,329 - INFO - HTTP Request: POST https://api.openai.com/v1/chat/completions \"HTTP/1.1 200 OK\"\n"
     ]
    },
    {
     "name": "stdout",
     "output_type": "stream",
     "text": [
      "Processed year: 2020\n"
     ]
    },
    {
     "name": "stderr",
     "output_type": "stream",
     "text": [
      "2024-06-24 18:01:05,423 - INFO - HTTP Request: POST https://api.openai.com/v1/chat/completions \"HTTP/1.1 200 OK\"\n"
     ]
    },
    {
     "name": "stdout",
     "output_type": "stream",
     "text": [
      "Processed year: 2021\n"
     ]
    },
    {
     "name": "stderr",
     "output_type": "stream",
     "text": [
      "2024-06-24 18:01:13,414 - INFO - HTTP Request: POST https://api.openai.com/v1/chat/completions \"HTTP/1.1 200 OK\"\n"
     ]
    },
    {
     "name": "stdout",
     "output_type": "stream",
     "text": [
      "Processed year: 2022\n"
     ]
    },
    {
     "name": "stderr",
     "output_type": "stream",
     "text": [
      "2024-06-24 18:01:20,179 - INFO - HTTP Request: POST https://api.openai.com/v1/chat/completions \"HTTP/1.1 200 OK\"\n"
     ]
    },
    {
     "name": "stdout",
     "output_type": "stream",
     "text": [
      "Processed year: 2023\n"
     ]
    }
   ],
   "source": [
    "from openaicall import get_predictions\n",
    "df = get_predictions(code)"
   ]
  },
  {
   "cell_type": "code",
   "execution_count": null,
   "metadata": {},
   "outputs": [
    {
     "name": "stdout",
     "output_type": "stream",
     "text": [
      "type(df): <class 'pandas.core.frame.DataFrame'> len(df): 9 df.columns: Index(['Year', 'earnings direction', 'magnitude', 'confidence score',\n",
      "       'summary of rationale'],\n",
      "      dtype='object') df.shape: (9, 5) df.index: RangeIndex(start=0, stop=9, step=1)\n"
     ]
    }
   ],
   "source": [
    "df"
   ]
  },
  {
   "cell_type": "code",
   "execution_count": 2,
   "metadata": {},
   "outputs": [
    {
     "name": "stderr",
     "output_type": "stream",
     "text": [
      "2024-06-24 17:29:39,640 - WARNING - Columns ['period_end'] not found in DataFrame\n"
     ]
    },
    {
     "data": {
      "text/html": [
       "<div>\n",
       "<style scoped>\n",
       "    .dataframe tbody tr th:only-of-type {\n",
       "        vertical-align: middle;\n",
       "    }\n",
       "\n",
       "    .dataframe tbody tr th {\n",
       "        vertical-align: top;\n",
       "    }\n",
       "\n",
       "    .dataframe thead th {\n",
       "        text-align: right;\n",
       "    }\n",
       "</style>\n",
       "<table border=\"1\" class=\"dataframe\">\n",
       "  <thead>\n",
       "    <tr style=\"text-align: right;\">\n",
       "      <th></th>\n",
       "      <th>continued_operations</th>\n",
       "      <th>costs</th>\n",
       "      <th>cvm_code</th>\n",
       "      <th>discontinued_operations</th>\n",
       "      <th>ebit</th>\n",
       "      <th>gross_income</th>\n",
       "      <th>net_income</th>\n",
       "      <th>net_income_controlling</th>\n",
       "      <th>net_income_non_controlling</th>\n",
       "      <th>net_sales</th>\n",
       "      <th>non_operating_income</th>\n",
       "      <th>operating_expenses</th>\n",
       "      <th>profit_before_taxes</th>\n",
       "      <th>taxes</th>\n",
       "    </tr>\n",
       "    <tr>\n",
       "      <th>period_end</th>\n",
       "      <th></th>\n",
       "      <th></th>\n",
       "      <th></th>\n",
       "      <th></th>\n",
       "      <th></th>\n",
       "      <th></th>\n",
       "      <th></th>\n",
       "      <th></th>\n",
       "      <th></th>\n",
       "      <th></th>\n",
       "      <th></th>\n",
       "      <th></th>\n",
       "      <th></th>\n",
       "      <th></th>\n",
       "    </tr>\n",
       "  </thead>\n",
       "  <tbody>\n",
       "    <tr>\n",
       "      <th>2010</th>\n",
       "      <td>2552985000</td>\n",
       "      <td>-5242444000</td>\n",
       "      <td>9748</td>\n",
       "      <td>0</td>\n",
       "      <td>4411372000</td>\n",
       "      <td>25241444000</td>\n",
       "      <td>2552985000</td>\n",
       "      <td>2247913000</td>\n",
       "      <td>305072000</td>\n",
       "      <td>30483888000</td>\n",
       "      <td>-364122000</td>\n",
       "      <td>-20830072000</td>\n",
       "      <td>4047250000</td>\n",
       "      <td>-1494265000</td>\n",
       "    </tr>\n",
       "    <tr>\n",
       "      <th>2011</th>\n",
       "      <td>3762020000</td>\n",
       "      <td>-4710631000</td>\n",
       "      <td>9748</td>\n",
       "      <td>0</td>\n",
       "      <td>4304370000</td>\n",
       "      <td>29497331000</td>\n",
       "      <td>3762020000</td>\n",
       "      <td>3732565000</td>\n",
       "      <td>29455000</td>\n",
       "      <td>34207962000</td>\n",
       "      <td>234453000</td>\n",
       "      <td>-25192961000</td>\n",
       "      <td>4538823000</td>\n",
       "      <td>-776803000</td>\n",
       "    </tr>\n",
       "    <tr>\n",
       "      <th>2012</th>\n",
       "      <td>-6925651000</td>\n",
       "      <td>-5633770000</td>\n",
       "      <td>9748</td>\n",
       "      <td>0</td>\n",
       "      <td>-9100769000</td>\n",
       "      <td>28014296000</td>\n",
       "      <td>-6925651000</td>\n",
       "      <td>-6878916000</td>\n",
       "      <td>-46735000</td>\n",
       "      <td>33648066000</td>\n",
       "      <td>1684476000</td>\n",
       "      <td>-37115065000</td>\n",
       "      <td>-7416293000</td>\n",
       "      <td>490642000</td>\n",
       "    </tr>\n",
       "    <tr>\n",
       "      <th>2013</th>\n",
       "      <td>-6191660000</td>\n",
       "      <td>-7827623000</td>\n",
       "      <td>9748</td>\n",
       "      <td>0</td>\n",
       "      <td>-5201668000</td>\n",
       "      <td>17897269000</td>\n",
       "      <td>-6191660000</td>\n",
       "      <td>-6186948000</td>\n",
       "      <td>-4712000</td>\n",
       "      <td>25724892000</td>\n",
       "      <td>376686000</td>\n",
       "      <td>-23098937000</td>\n",
       "      <td>-4824982000</td>\n",
       "      <td>-1366678000</td>\n",
       "    </tr>\n",
       "    <tr>\n",
       "      <th>2014</th>\n",
       "      <td>-2962502000</td>\n",
       "      <td>-16327359000</td>\n",
       "      <td>9748</td>\n",
       "      <td>0</td>\n",
       "      <td>-1956609000</td>\n",
       "      <td>13810448000</td>\n",
       "      <td>-2962502000</td>\n",
       "      <td>-3031055000</td>\n",
       "      <td>68553000</td>\n",
       "      <td>30137807000</td>\n",
       "      <td>694625000</td>\n",
       "      <td>-15767057000</td>\n",
       "      <td>-1261984000</td>\n",
       "      <td>-1700518000</td>\n",
       "    </tr>\n",
       "    <tr>\n",
       "      <th>2015</th>\n",
       "      <td>-14953658000</td>\n",
       "      <td>-16991559000</td>\n",
       "      <td>9748</td>\n",
       "      <td>0</td>\n",
       "      <td>-12544521000</td>\n",
       "      <td>15597279000</td>\n",
       "      <td>-14953658000</td>\n",
       "      <td>-14441607000</td>\n",
       "      <td>-512051000</td>\n",
       "      <td>32588838000</td>\n",
       "      <td>-1699025000</td>\n",
       "      <td>-28141800000</td>\n",
       "      <td>-14243546000</td>\n",
       "      <td>-710112000</td>\n",
       "    </tr>\n",
       "    <tr>\n",
       "      <th>2016</th>\n",
       "      <td>3513276000</td>\n",
       "      <td>-16210934000</td>\n",
       "      <td>9748</td>\n",
       "      <td>0</td>\n",
       "      <td>15954819000</td>\n",
       "      <td>44218870000</td>\n",
       "      <td>3513276000</td>\n",
       "      <td>3425899000</td>\n",
       "      <td>87377000</td>\n",
       "      <td>60429804000</td>\n",
       "      <td>-3930724000</td>\n",
       "      <td>-28264051000</td>\n",
       "      <td>12024095000</td>\n",
       "      <td>-8510819000</td>\n",
       "    </tr>\n",
       "    <tr>\n",
       "      <th>2017</th>\n",
       "      <td>2453523000</td>\n",
       "      <td>-9459949000</td>\n",
       "      <td>9748</td>\n",
       "      <td>-4179214000</td>\n",
       "      <td>6218667000</td>\n",
       "      <td>19983066000</td>\n",
       "      <td>-1725691000</td>\n",
       "      <td>-1763805000</td>\n",
       "      <td>38114000</td>\n",
       "      <td>29443015000</td>\n",
       "      <td>-1736116000</td>\n",
       "      <td>-13764399000</td>\n",
       "      <td>4482551000</td>\n",
       "      <td>-2029028000</td>\n",
       "    </tr>\n",
       "    <tr>\n",
       "      <th>2018</th>\n",
       "      <td>13446800000</td>\n",
       "      <td>-5537063000</td>\n",
       "      <td>9748</td>\n",
       "      <td>-99223000</td>\n",
       "      <td>17305149000</td>\n",
       "      <td>20235242000</td>\n",
       "      <td>13347577000</td>\n",
       "      <td>13262378000</td>\n",
       "      <td>85199000</td>\n",
       "      <td>25772305000</td>\n",
       "      <td>-1374631000</td>\n",
       "      <td>-2930093000</td>\n",
       "      <td>15930518000</td>\n",
       "      <td>-2483718000</td>\n",
       "    </tr>\n",
       "    <tr>\n",
       "      <th>2019</th>\n",
       "      <td>7848445000</td>\n",
       "      <td>-7449954000</td>\n",
       "      <td>9748</td>\n",
       "      <td>3284975000</td>\n",
       "      <td>9666572000</td>\n",
       "      <td>22264310000</td>\n",
       "      <td>11133420000</td>\n",
       "      <td>11195037000</td>\n",
       "      <td>-61617000</td>\n",
       "      <td>29714264000</td>\n",
       "      <td>-2448786000</td>\n",
       "      <td>-12597738000</td>\n",
       "      <td>7217786000</td>\n",
       "      <td>630659000</td>\n",
       "    </tr>\n",
       "    <tr>\n",
       "      <th>2020</th>\n",
       "      <td>6387313000</td>\n",
       "      <td>-13427020000</td>\n",
       "      <td>9748</td>\n",
       "      <td>0</td>\n",
       "      <td>8624292000</td>\n",
       "      <td>15653493000</td>\n",
       "      <td>6387313000</td>\n",
       "      <td>6338688000</td>\n",
       "      <td>48625000</td>\n",
       "      <td>29080513000</td>\n",
       "      <td>-1671646000</td>\n",
       "      <td>-7029201000</td>\n",
       "      <td>6952646000</td>\n",
       "      <td>-565333000</td>\n",
       "    </tr>\n",
       "    <tr>\n",
       "      <th>2021</th>\n",
       "      <td>5855024000</td>\n",
       "      <td>-10116893000</td>\n",
       "      <td>9748</td>\n",
       "      <td>-141391000</td>\n",
       "      <td>12668337000</td>\n",
       "      <td>25238726000</td>\n",
       "      <td>5713633000</td>\n",
       "      <td>5646141000</td>\n",
       "      <td>67492000</td>\n",
       "      <td>35355619000</td>\n",
       "      <td>-1507631000</td>\n",
       "      <td>-12570389000</td>\n",
       "      <td>11160706000</td>\n",
       "      <td>-5305682000</td>\n",
       "    </tr>\n",
       "    <tr>\n",
       "      <th>2022</th>\n",
       "      <td>2651598000</td>\n",
       "      <td>-15843159000</td>\n",
       "      <td>9748</td>\n",
       "      <td>986785000</td>\n",
       "      <td>7712519000</td>\n",
       "      <td>18222787000</td>\n",
       "      <td>3638383000</td>\n",
       "      <td>3635377000</td>\n",
       "      <td>3005000</td>\n",
       "      <td>34065946000</td>\n",
       "      <td>-4365308000</td>\n",
       "      <td>-10510268000</td>\n",
       "      <td>3347211000</td>\n",
       "      <td>-695613000</td>\n",
       "    </tr>\n",
       "    <tr>\n",
       "      <th>2023</th>\n",
       "      <td>4391498000</td>\n",
       "      <td>-18673499000</td>\n",
       "      <td>9748</td>\n",
       "      <td>3363000</td>\n",
       "      <td>13730498000</td>\n",
       "      <td>18485409000</td>\n",
       "      <td>4394861000</td>\n",
       "      <td>4549774000</td>\n",
       "      <td>-154913000</td>\n",
       "      <td>37158908000</td>\n",
       "      <td>-12337498000</td>\n",
       "      <td>-4754911000</td>\n",
       "      <td>1393000000</td>\n",
       "      <td>2998498000</td>\n",
       "    </tr>\n",
       "    <tr>\n",
       "      <th>2024</th>\n",
       "      <td>330534000</td>\n",
       "      <td>-4499682000</td>\n",
       "      <td>2437</td>\n",
       "      <td>0</td>\n",
       "      <td>3623406000</td>\n",
       "      <td>4218589000</td>\n",
       "      <td>330534000</td>\n",
       "      <td>328051000</td>\n",
       "      <td>2483000</td>\n",
       "      <td>8718271000</td>\n",
       "      <td>-2987777000</td>\n",
       "      <td>-595183000</td>\n",
       "      <td>635629000</td>\n",
       "      <td>-305095000</td>\n",
       "    </tr>\n",
       "  </tbody>\n",
       "</table>\n",
       "</div>"
      ],
      "text/plain": [
       "            continued_operations        costs  cvm_code  \\\n",
       "period_end                                                \n",
       "2010                  2552985000  -5242444000      9748   \n",
       "2011                  3762020000  -4710631000      9748   \n",
       "2012                 -6925651000  -5633770000      9748   \n",
       "2013                 -6191660000  -7827623000      9748   \n",
       "2014                 -2962502000 -16327359000      9748   \n",
       "2015                -14953658000 -16991559000      9748   \n",
       "2016                  3513276000 -16210934000      9748   \n",
       "2017                  2453523000  -9459949000      9748   \n",
       "2018                 13446800000  -5537063000      9748   \n",
       "2019                  7848445000  -7449954000      9748   \n",
       "2020                  6387313000 -13427020000      9748   \n",
       "2021                  5855024000 -10116893000      9748   \n",
       "2022                  2651598000 -15843159000      9748   \n",
       "2023                  4391498000 -18673499000      9748   \n",
       "2024                   330534000  -4499682000      2437   \n",
       "\n",
       "            discontinued_operations         ebit  gross_income   net_income  \\\n",
       "period_end                                                                    \n",
       "2010                              0   4411372000   25241444000   2552985000   \n",
       "2011                              0   4304370000   29497331000   3762020000   \n",
       "2012                              0  -9100769000   28014296000  -6925651000   \n",
       "2013                              0  -5201668000   17897269000  -6191660000   \n",
       "2014                              0  -1956609000   13810448000  -2962502000   \n",
       "2015                              0 -12544521000   15597279000 -14953658000   \n",
       "2016                              0  15954819000   44218870000   3513276000   \n",
       "2017                    -4179214000   6218667000   19983066000  -1725691000   \n",
       "2018                      -99223000  17305149000   20235242000  13347577000   \n",
       "2019                     3284975000   9666572000   22264310000  11133420000   \n",
       "2020                              0   8624292000   15653493000   6387313000   \n",
       "2021                     -141391000  12668337000   25238726000   5713633000   \n",
       "2022                      986785000   7712519000   18222787000   3638383000   \n",
       "2023                        3363000  13730498000   18485409000   4394861000   \n",
       "2024                              0   3623406000    4218589000    330534000   \n",
       "\n",
       "            net_income_controlling  net_income_non_controlling    net_sales  \\\n",
       "period_end                                                                    \n",
       "2010                    2247913000                   305072000  30483888000   \n",
       "2011                    3732565000                    29455000  34207962000   \n",
       "2012                   -6878916000                   -46735000  33648066000   \n",
       "2013                   -6186948000                    -4712000  25724892000   \n",
       "2014                   -3031055000                    68553000  30137807000   \n",
       "2015                  -14441607000                  -512051000  32588838000   \n",
       "2016                    3425899000                    87377000  60429804000   \n",
       "2017                   -1763805000                    38114000  29443015000   \n",
       "2018                   13262378000                    85199000  25772305000   \n",
       "2019                   11195037000                   -61617000  29714264000   \n",
       "2020                    6338688000                    48625000  29080513000   \n",
       "2021                    5646141000                    67492000  35355619000   \n",
       "2022                    3635377000                     3005000  34065946000   \n",
       "2023                    4549774000                  -154913000  37158908000   \n",
       "2024                     328051000                     2483000   8718271000   \n",
       "\n",
       "            non_operating_income  operating_expenses  profit_before_taxes  \\\n",
       "period_end                                                                  \n",
       "2010                  -364122000        -20830072000           4047250000   \n",
       "2011                   234453000        -25192961000           4538823000   \n",
       "2012                  1684476000        -37115065000          -7416293000   \n",
       "2013                   376686000        -23098937000          -4824982000   \n",
       "2014                   694625000        -15767057000          -1261984000   \n",
       "2015                 -1699025000        -28141800000         -14243546000   \n",
       "2016                 -3930724000        -28264051000          12024095000   \n",
       "2017                 -1736116000        -13764399000           4482551000   \n",
       "2018                 -1374631000         -2930093000          15930518000   \n",
       "2019                 -2448786000        -12597738000           7217786000   \n",
       "2020                 -1671646000         -7029201000           6952646000   \n",
       "2021                 -1507631000        -12570389000          11160706000   \n",
       "2022                 -4365308000        -10510268000           3347211000   \n",
       "2023                -12337498000         -4754911000           1393000000   \n",
       "2024                 -2987777000          -595183000            635629000   \n",
       "\n",
       "                 taxes  \n",
       "period_end              \n",
       "2010       -1494265000  \n",
       "2011        -776803000  \n",
       "2012         490642000  \n",
       "2013       -1366678000  \n",
       "2014       -1700518000  \n",
       "2015        -710112000  \n",
       "2016       -8510819000  \n",
       "2017       -2029028000  \n",
       "2018       -2483718000  \n",
       "2019         630659000  \n",
       "2020        -565333000  \n",
       "2021       -5305682000  \n",
       "2022        -695613000  \n",
       "2023        2998498000  \n",
       "2024        -305095000  "
      ]
     },
     "execution_count": 2,
     "metadata": {},
     "output_type": "execute_result"
    }
   ],
   "source": [
    "income_statement = retrieve_income_with_lenght(code)\n",
    "f=income_statement['income_statement']\n",
    "f"
   ]
  },
  {
   "cell_type": "code",
   "execution_count": 2,
   "metadata": {},
   "outputs": [
    {
     "name": "stderr",
     "output_type": "stream",
     "text": [
      "2024-06-24 18:22:46,392 - WARNING - Columns ['period_end'] not found in DataFrame\n"
     ]
    },
    {
     "name": "stdout",
     "output_type": "stream",
     "text": [
      "Missing data for years: Index([2009], dtype='int64', name='reference_date')\n"
     ]
    },
    {
     "name": "stderr",
     "output_type": "stream",
     "text": [
      "2024-06-24 18:22:55,771 - INFO - HTTP Request: POST https://api.openai.com/v1/chat/completions \"HTTP/1.1 200 OK\"\n"
     ]
    },
    {
     "name": "stdout",
     "output_type": "stream",
     "text": [
      "Processed year: 2015\n"
     ]
    },
    {
     "name": "stderr",
     "output_type": "stream",
     "text": [
      "2024-06-24 18:23:04,061 - INFO - HTTP Request: POST https://api.openai.com/v1/chat/completions \"HTTP/1.1 200 OK\"\n"
     ]
    },
    {
     "name": "stdout",
     "output_type": "stream",
     "text": [
      "Processed year: 2016\n"
     ]
    },
    {
     "name": "stderr",
     "output_type": "stream",
     "text": [
      "2024-06-24 18:23:11,950 - INFO - HTTP Request: POST https://api.openai.com/v1/chat/completions \"HTTP/1.1 200 OK\"\n"
     ]
    },
    {
     "name": "stdout",
     "output_type": "stream",
     "text": [
      "Processed year: 2017\n"
     ]
    },
    {
     "name": "stderr",
     "output_type": "stream",
     "text": [
      "2024-06-24 18:23:18,808 - INFO - HTTP Request: POST https://api.openai.com/v1/chat/completions \"HTTP/1.1 200 OK\"\n"
     ]
    },
    {
     "name": "stdout",
     "output_type": "stream",
     "text": [
      "Processed year: 2018\n"
     ]
    },
    {
     "name": "stderr",
     "output_type": "stream",
     "text": [
      "2024-06-24 18:23:24,441 - INFO - HTTP Request: POST https://api.openai.com/v1/chat/completions \"HTTP/1.1 200 OK\"\n"
     ]
    },
    {
     "name": "stdout",
     "output_type": "stream",
     "text": [
      "Processed year: 2019\n"
     ]
    },
    {
     "name": "stderr",
     "output_type": "stream",
     "text": [
      "2024-06-24 18:23:33,656 - INFO - HTTP Request: POST https://api.openai.com/v1/chat/completions \"HTTP/1.1 200 OK\"\n"
     ]
    },
    {
     "name": "stdout",
     "output_type": "stream",
     "text": [
      "Processed year: 2020\n"
     ]
    },
    {
     "name": "stderr",
     "output_type": "stream",
     "text": [
      "2024-06-24 18:23:42,667 - INFO - HTTP Request: POST https://api.openai.com/v1/chat/completions \"HTTP/1.1 200 OK\"\n"
     ]
    },
    {
     "name": "stdout",
     "output_type": "stream",
     "text": [
      "Processed year: 2021\n"
     ]
    },
    {
     "name": "stderr",
     "output_type": "stream",
     "text": [
      "2024-06-24 18:23:49,938 - INFO - HTTP Request: POST https://api.openai.com/v1/chat/completions \"HTTP/1.1 200 OK\"\n"
     ]
    },
    {
     "name": "stdout",
     "output_type": "stream",
     "text": [
      "Processed year: 2022\n"
     ]
    },
    {
     "name": "stderr",
     "output_type": "stream",
     "text": [
      "2024-06-24 18:23:56,538 - INFO - HTTP Request: POST https://api.openai.com/v1/chat/completions \"HTTP/1.1 200 OK\"\n",
      "2024-06-24 18:23:56,549 - INFO - Time elapsed for get_predictions: 71.22 seconds\n",
      "2024-06-24 18:23:56,551 - INFO - Predictions shape: (9, 5)\n",
      "2024-06-24 18:23:56,555 - INFO - Predictions columns: Index(['Year', 'earnings direction', 'magnitude', 'confidence score',\n",
      "       'summary of rationale'],\n",
      "      dtype='object')\n",
      "2024-06-24 18:23:56,674 - INFO - Predictions head:\n",
      "   Year earnings direction magnitude confidence score  \\\n",
      "0  2015           increase  moderate             0.75   \n",
      "1  2016           decrease  moderate             0.75   \n",
      "2  2017           decrease  moderate             0.75   \n",
      "3  2018           decrease  moderate              0.7   \n",
      "4  2019           increase  moderate              0.7   \n",
      "\n",
      "                                summary of rationale  \n",
      "0  The company has shown consistent growth in net...  \n",
      "1  Analyzing the financial trends from 2011 to 20...  \n",
      "2  The company's net income has shown a volatile ...  \n",
      "3  Analyzing the financial trends from 2013 to 20...  \n",
      "4  Analyzing the financial trends from 2014 to 20...  \n"
     ]
    },
    {
     "name": "stdout",
     "output_type": "stream",
     "text": [
      "Processed year: 2023\n"
     ]
    },
    {
     "name": "stderr",
     "output_type": "stream",
     "text": [
      "2024-06-24 18:23:57,728 - WARNING - Columns ['period_end'] not found in DataFrame\n",
      "2024-06-24 18:23:57,731 - INFO - Time elapsed for net_income_direction: 1.05 seconds\n",
      "2024-06-24 18:23:57,735 - INFO - Actual earnings shape: (15,)\n",
      "2024-06-24 18:23:57,739 - INFO - Actual earnings head:\n",
      "Year\n",
      "2010   -188754000\n",
      "2011   -113383000\n",
      "2012   -156187000\n",
      "2013   -180087000\n",
      "2014   -149836000\n",
      "Name: taxes, dtype: int64\n",
      "2024-06-24 18:23:59,204 - INFO - Successfully fetched 2443 rows from the company table.\n",
      "2024-06-24 18:23:59,209 - INFO - Time elapsed for get_company_name: 1.47 seconds\n",
      "2024-06-24 18:23:59,212 - INFO - Company name: JSL\n",
      "2024-06-24 18:23:59,214 - INFO - Processing year: 2015\n",
      "2024-06-24 18:23:59,223 - INFO - Processing year: 2016\n",
      "2024-06-24 18:23:59,230 - INFO - Processing year: 2017\n",
      "2024-06-24 18:23:59,239 - INFO - Processing year: 2018\n",
      "2024-06-24 18:23:59,241 - INFO - Processing year: 2019\n",
      "2024-06-24 18:23:59,244 - INFO - Processing year: 2020\n",
      "2024-06-24 18:23:59,248 - INFO - Processing year: 2021\n",
      "2024-06-24 18:23:59,254 - INFO - Processing year: 2022\n",
      "2024-06-24 18:23:59,260 - INFO - Processing year: 2023\n",
      "2024-06-24 18:23:59,263 - INFO - Time elapsed for data processing: 0.05 seconds\n",
      "2024-06-24 18:23:59,266 - INFO - Final DataFrame shape: (9, 7)\n",
      "2024-06-24 18:23:59,276 - INFO - Final DataFrame head:\n",
      "  Company Name  Year Actual Earnings Direction Predicted Earnings Direction  \\\n",
      "0          JSL  2015                  decrease                     increase   \n",
      "1          JSL  2016                  increase                     decrease   \n",
      "2          JSL  2017                  decrease                     decrease   \n",
      "3          JSL  2018                  decrease                     decrease   \n",
      "4          JSL  2019                  decrease                     increase   \n",
      "\n",
      "  Magnitude Confidence Score  \\\n",
      "0  moderate             0.75   \n",
      "1  moderate             0.75   \n",
      "2  moderate             0.75   \n",
      "3  moderate              0.7   \n",
      "4  moderate              0.7   \n",
      "\n",
      "                                Summary of Rationale  \n",
      "0  The company has shown consistent growth in net...  \n",
      "1  Analyzing the financial trends from 2011 to 20...  \n",
      "2  The company's net income has shown a volatile ...  \n",
      "3  Analyzing the financial trends from 2013 to 20...  \n",
      "4  Analyzing the financial trends from 2014 to 20...  \n",
      "2024-06-24 18:23:59,312 - INFO - Time elapsed for saving CSV: 0.03 seconds\n",
      "2024-06-24 18:23:59,313 - INFO - Analysis saved to JSL_earnings_analysis.csv\n",
      "2024-06-24 18:23:59,314 - INFO - Total time elapsed: 73.98 seconds\n"
     ]
    }
   ],
   "source": [
    "from earnings_anal import *\n",
    "an = analyze_earnings(22020)"
   ]
  },
  {
   "cell_type": "code",
   "execution_count": null,
   "metadata": {},
   "outputs": [],
   "source": []
  }
 ],
 "metadata": {
  "kernelspec": {
   "display_name": "ddmw-e8cxjo42-py3.12",
   "language": "python",
   "name": "python3"
  },
  "language_info": {
   "codemirror_mode": {
    "name": "ipython",
    "version": 3
   },
   "file_extension": ".py",
   "mimetype": "text/x-python",
   "name": "python",
   "nbconvert_exporter": "python",
   "pygments_lexer": "ipython3",
   "version": "3.12.4"
  }
 },
 "nbformat": 4,
 "nbformat_minor": 2
}
