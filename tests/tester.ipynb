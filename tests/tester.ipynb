{
 "cells": [
  {
   "cell_type": "code",
   "execution_count": 2,
   "metadata": {},
   "outputs": [],
   "source": [
    "import pandas as pd\n",
    "from fetcherv6 import *\n",
    "company = 910349"
   ]
  },
  {
   "cell_type": "code",
   "execution_count": 3,
   "metadata": {},
   "outputs": [
    {
     "data": {
      "text/html": [
       "<div>\n",
       "<style scoped>\n",
       "    .dataframe tbody tr th:only-of-type {\n",
       "        vertical-align: middle;\n",
       "    }\n",
       "\n",
       "    .dataframe tbody tr th {\n",
       "        vertical-align: top;\n",
       "    }\n",
       "\n",
       "    .dataframe thead th {\n",
       "        text-align: right;\n",
       "    }\n",
       "</style>\n",
       "<table border=\"1\" class=\"dataframe\">\n",
       "  <thead>\n",
       "    <tr style=\"text-align: right;\">\n",
       "      <th></th>\n",
       "      <th>continued_operations</th>\n",
       "      <th>costs</th>\n",
       "      <th>cvm_code</th>\n",
       "      <th>discontinued_operations</th>\n",
       "      <th>ebit</th>\n",
       "      <th>gross_income</th>\n",
       "      <th>net_income</th>\n",
       "      <th>net_income_controlling</th>\n",
       "      <th>net_income_non_controlling</th>\n",
       "      <th>net_sales</th>\n",
       "      <th>non_operating_income</th>\n",
       "      <th>operating_expenses</th>\n",
       "      <th>period_end</th>\n",
       "      <th>period_init</th>\n",
       "      <th>period_type</th>\n",
       "      <th>profit_before_taxes</th>\n",
       "      <th>statement_type</th>\n",
       "      <th>taxes</th>\n",
       "    </tr>\n",
       "  </thead>\n",
       "  <tbody>\n",
       "  </tbody>\n",
       "</table>\n",
       "</div>"
      ],
      "text/plain": [
       "Empty DataFrame\n",
       "Columns: [continued_operations, costs, cvm_code, discontinued_operations, ebit, gross_income, net_income, net_income_controlling, net_income_non_controlling, net_sales, non_operating_income, operating_expenses, period_end, period_init, period_type, profit_before_taxes, statement_type, taxes]\n",
       "Index: []"
      ]
     },
     "execution_count": 3,
     "metadata": {},
     "output_type": "execute_result"
    }
   ],
   "source": [
    "df = fetch_income_statement(company)\n",
    "df.head()\n"
   ]
  },
  {
   "cell_type": "code",
   "execution_count": 8,
   "metadata": {},
   "outputs": [
    {
     "ename": "AttributeError",
     "evalue": "'tuple' object has no attribute 'head'",
     "output_type": "error",
     "traceback": [
      "\u001b[0;31m---------------------------------------------------------------------------\u001b[0m",
      "\u001b[0;31mAttributeError\u001b[0m                            Traceback (most recent call last)",
      "Cell \u001b[0;32mIn[8], line 2\u001b[0m\n\u001b[1;32m      1\u001b[0m data \u001b[38;5;241m=\u001b[39m fetch_financials(\u001b[38;5;241m701\u001b[39m)\n\u001b[0;32m----> 2\u001b[0m \u001b[43mdata\u001b[49m\u001b[38;5;241;43m.\u001b[39;49m\u001b[43mhead\u001b[49m()\n",
      "\u001b[0;31mAttributeError\u001b[0m: 'tuple' object has no attribute 'head'"
     ]
    }
   ],
   "source": [
    "data = fetch_financials(701)\n",
    "data.head()"
   ]
  },
  {
   "cell_type": "code",
   "execution_count": 5,
   "metadata": {},
   "outputs": [
    {
     "name": "stderr",
     "output_type": "stream",
     "text": [
      "2024-06-22 15:34:30,570 - WARNING - Columns ['period_end'] not found in DataFrame\n",
      "2024-06-22 15:34:30,655 - INFO - Columns before cleaning: Index(['index', 2014, 2015, 2016, 2017, 2018, 2019, 2020, 2021, 2022, 2023,\n",
      "       2024],\n",
      "      dtype='object', name='period_end')\n",
      "2024-06-22 15:34:30,661 - WARNING - Columns ['period_end'] not found in DataFrame\n",
      "2024-06-22 15:34:30,668 - INFO - Columns after cleaning: Index(['index', 2014, 2015, 2016, 2017, 2018, 2019, 2020, 2021, 2022, 2023,\n",
      "       2024],\n",
      "      dtype='object', name='period_end')\n"
     ]
    }
   ],
   "source": [
    "fins = fetch_financials(movida)"
   ]
  },
  {
   "cell_type": "code",
   "execution_count": 8,
   "metadata": {},
   "outputs": [
    {
     "name": "stdout",
     "output_type": "stream",
     "text": [
      "reference_date                index        2014        2015        2016  \\\n",
      "0                            assets  1355156000  2618610000  2789713000   \n",
      "1                 biological_assets           0           0           0   \n",
      "2                              cash    15544000   460579000    53576000   \n",
      "3                    current_assets   222585000   782052000   565338000   \n",
      "4               current_liabilities   554236000  1130402000  1497200000   \n",
      "\n",
      "reference_date        2017        2018        2019        2020         2021  \\\n",
      "0               4006470000  5192301000  7242817000  8502627000  21715853000   \n",
      "1                        0           0           0           0            0   \n",
      "2                411381000   259482000    72233000    68647000    146030000   \n",
      "3               1161338000  1435941000  1949183000  2380202000   9146959000   \n",
      "4               1615777000  1642881000  2239379000  2448236000   3751193000   \n",
      "\n",
      "reference_date         2022         2023  \n",
      "0               26248880000  25119493000  \n",
      "1                         0            0  \n",
      "2                 551765000    133394000  \n",
      "3                9440252000   5429325000  \n",
      "4                5896026000   7455025000  \n",
      "\n",
      "period_end                    index      2014       2015        2016  \\\n",
      "0              continued_operations   3012000   31893000    18951000   \n",
      "1                             costs -36376000 -798017000 -1083729000   \n",
      "2                          cvm_code     95300      95300       95300   \n",
      "3           discontinued_operations   1754000   10930000     6375000   \n",
      "4                              ebit   8584000  113569000   138733000   \n",
      "\n",
      "period_end        2017        2018        2019        2020        2021  \\\n",
      "0             45112000   159738000   227815000   109026000   819439000   \n",
      "1          -1376403000 -1731963000 -2896435000 -3219779000 -2946075000   \n",
      "2                95300       95300       95300       95300       95300   \n",
      "3               367000           0           0           0           0   \n",
      "4            184424000   379714000   468187000   304301000  1666734000   \n",
      "\n",
      "period_end        2022        2023        2024  \n",
      "0            556408000  -650847000    48550000  \n",
      "1          -5694570000 -7573494000 -2089562000  \n",
      "2                95300       95300       23825  \n",
      "3                    0           0           0  \n",
      "4           2416752000  1261569000   611647000  \n",
      "\n",
      "period_end                          index      2014       2015       2016  \\\n",
      "0                                cvm_code     95300      95300      95300   \n",
      "1           depreciation_and_amortization  -7603000  -92171000  -71927000   \n",
      "2                               financing  20838000  278396000 -170573000   \n",
      "3                               investing  14392000  -41994000  -31983000   \n",
      "4                               operating -19686000  208633000 -204447000   \n",
      "\n",
      "period_end        2017        2018        2019       2020        2021  \\\n",
      "0                95300       95300       95300      95300       95300   \n",
      "1            -74739000  -102011000  -275005000 -412880000  -416251000   \n",
      "2           1396362000   917367000  1037313000  706958000  8452201000   \n",
      "3            -18085000   -50493000   -91854000  -76294000  -105298000   \n",
      "4          -1020472000 -1018773000 -1132708000 -634250000 -8269520000   \n",
      "\n",
      "period_end        2022        2023        2024  \n",
      "0                95300       95300       23825  \n",
      "1          -1135224000 -2237679000  -447799000  \n",
      "2           5084343000 -3373485000  1250363000  \n",
      "3           -506743000  -272038000   -30899000  \n",
      "4          -4171865000  3227152000  -877584000  \n"
     ]
    }
   ],
   "source": [
    "print(fins[0].head())\n",
    "#print blank line\n",
    "print()\n",
    "print(fins[1].head())\n",
    "print()\n",
    "print(fins[2].head())\n"
   ]
  },
  {
   "cell_type": "code",
   "execution_count": null,
   "metadata": {},
   "outputs": [],
   "source": []
  }
 ],
 "metadata": {
  "kernelspec": {
   "display_name": "ddmw--1P6A6nS-py3.12",
   "language": "python",
   "name": "python3"
  },
  "language_info": {
   "codemirror_mode": {
    "name": "ipython",
    "version": 3
   },
   "file_extension": ".py",
   "mimetype": "text/x-python",
   "name": "python",
   "nbconvert_exporter": "python",
   "pygments_lexer": "ipython3",
   "version": "3.12.4"
  }
 },
 "nbformat": 4,
 "nbformat_minor": 2
}
